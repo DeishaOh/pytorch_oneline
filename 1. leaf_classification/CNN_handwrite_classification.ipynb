{
 "cells": [
  {
   "cell_type": "markdown",
   "id": "58dd0c0f",
   "metadata": {},
   "source": [
    "# 1. 모듈 및 분석 환경 설정"
   ]
  },
  {
   "cell_type": "markdown",
   "id": "ee837fab",
   "metadata": {},
   "source": [
    "### - 1. 모듈 불러오기"
   ]
  },
  {
   "cell_type": "code",
   "execution_count": 1,
   "id": "3ad18520",
   "metadata": {},
   "outputs": [],
   "source": [
    "import torch\n",
    "\n",
    "#딥러닝 네트워크 기본구성 요소\n",
    "import torch.nn as nn\n",
    "\n",
    "#딥러닝에 자주 사용되는 함수 모듈\n",
    "import torch.nn.functional as F\n",
    "\n",
    "#가중치 추정에 필요한 최적화 알고리즘\n",
    "import torch.optim as optim\n",
    "\n",
    "#데이터셋 과 모델 구조 및 이미지 변환 기술\n",
    "from torchvision import datasets, transforms\n",
    "\n",
    "#데이터 차트 및 시각화\n",
    "#주피터노트북은 브라우저에서 보기위해 inline 필수\n",
    "from matplotlib import pyplot as plt\n",
    "%matplotlib inline"
   ]
  },
  {
   "cell_type": "markdown",
   "id": "00af41fe",
   "metadata": {},
   "source": [
    "### - 2. 분석 환경 설정"
   ]
  },
  {
   "cell_type": "code",
   "execution_count": 2,
   "id": "f7477e12",
   "metadata": {},
   "outputs": [
    {
     "name": "stdout",
     "output_type": "stream",
     "text": [
      "Current cuda device is cuda\n"
     ]
    },
    {
     "data": {
      "text/plain": [
       "'\\ngpu : cuda\\ncpu : cpu\\n'"
      ]
     },
     "execution_count": 2,
     "metadata": {},
     "output_type": "execute_result"
    }
   ],
   "source": [
    "is_cuda = torch.cuda.is_available()\n",
    "device = torch.device('cuda' if is_cuda else 'cpu')\n",
    "\n",
    "print('Current cuda device is', device)\n",
    "'''\n",
    "gpu : cuda\n",
    "cpu : cpu\n",
    "'''"
   ]
  },
  {
   "cell_type": "markdown",
   "id": "42b1bd46",
   "metadata": {},
   "source": [
    "### - 3. Hyper Parameter 지정"
   ]
  },
  {
   "cell_type": "code",
   "execution_count": 3,
   "id": "ecf5a794",
   "metadata": {},
   "outputs": [],
   "source": [
    "'''\n",
    "batch_size : 모델 가중치를 한 번 업데이트 시킬 때 사용되는 샘플 단위 개수\n",
    "epoch_num : 학습 데이터를 모두 사용하여 학습하는 기본 단위 횟수\n",
    "learning_rate : 가중치 업데이트의 정도\n",
    "'''\n",
    "batch_size = 50\n",
    "epoch_num = 15\n",
    "learning_rate = 0.0001"
   ]
  },
  {
   "cell_type": "markdown",
   "id": "1b6254a8",
   "metadata": {},
   "source": [
    "# 2. 데이터 불러오기"
   ]
  },
  {
   "cell_type": "markdown",
   "id": "2b667b44",
   "metadata": {},
   "source": [
    "### - 1. MNIST 데이터 불러오기"
   ]
  },
  {
   "cell_type": "code",
   "execution_count": 4,
   "id": "be65dcca",
   "metadata": {},
   "outputs": [
    {
     "name": "stdout",
     "output_type": "stream",
     "text": [
      "number of training data :  60000\n",
      "number of test data :  10000\n"
     ]
    }
   ],
   "source": [
    "'''\n",
    "root : MNIST 데이터를 저장할 물리적 공간 위치\n",
    "train : True/False의 논리값으로 데이터를 학습용으로 사용할 것인지 지정\n",
    "download : True를 입력하면 root 옵션에서 지정된 위치에 데이터 저장.\n",
    "           처음 시행이 아니고 이미 저장된 데이터가 있다면 False\n",
    "transform : MNIST 데이터를 저장과 동시에 전처리를 할 수 있는 옵션\n",
    "            PyTorch는 입력 데이터로 Tensor를 사용하므로 이미지를 Tensor로 변형하는\n",
    "            전처리 transforms.ToTensor() 사용\n",
    "'''\n",
    "train_data = datasets.MNIST(root = './data', train = True, download = True,\n",
    "                           transform = transforms.ToTensor())\n",
    "test_data = datasets.MNIST(root = './data', train = False,\n",
    "                          transform = transforms.ToTensor())\n",
    "\n",
    "print('number of training data : ', len(train_data))\n",
    "print('number of test data : ', len(test_data))"
   ]
  },
  {
   "cell_type": "markdown",
   "id": "e72e9707",
   "metadata": {},
   "source": [
    "### - 2. MNIST 데이터 확인하기"
   ]
  },
  {
   "cell_type": "code",
   "execution_count": 5,
   "id": "2993e24d",
   "metadata": {},
   "outputs": [
    {
     "data": {
      "image/png": "[encoded data removed]",
      "text/plain": [
       "<Figure size 432x288 with 1 Axes>"
      ]
     },
     "metadata": {
      "needs_background": "light"
     },
     "output_type": "display_data"
    }
   ],
   "source": [
    "'''\n",
    "MNIST는 3차원텐서임(1, 28, 28)\n",
    "squeeze() 함수는 크기가 1인 차원을 없앰\n",
    "'''\n",
    "\n",
    "image, label = train_data[0]\n",
    "\n",
    "plt.imshow(image.squeeze().numpy(), cmap = 'gray')\n",
    "plt.title('label : %s' % label)\n",
    "plt.show()"
   ]
  },
  {
   "cell_type": "markdown",
   "id": "099e84ff",
   "metadata": {},
   "source": [
    "### - 3. 미니 배치 구성하기"
   ]
  },
  {
   "cell_type": "code",
   "execution_count": 6,
   "id": "7e93feec",
   "metadata": {},
   "outputs": [
    {
     "name": "stdout",
     "output_type": "stream",
     "text": [
      "name            | type                      | size\n",
      "Num of Batch    |                           | 1200\n",
      "first_batch     | <class 'list'>            | 2\n",
      "first_batch[0]  | <class 'torch.Tensor'>    | torch.Size([50, 1, 28, 28])\n",
      "first_batch[1]  | <class 'torch.Tensor'>    | torch.Size([50])\n"
     ]
    }
   ],
   "source": [
    "'''\n",
    "dataset : 미니 배치로구성할 데이터\n",
    "batch_size : 미니 배치의 사이즈\n",
    "shuffle: 시계열 데이터가 아닌 경우, 데이터의 순서에 대해서는 학습하지 못하도록 랜덤으로 섞음\n",
    "torch_size[50, 1, 28,28] : batch_size, channel, width, height\n",
    "\n",
    "'''\n",
    "train_loader = torch.utils.data.DataLoader(dataset = train_data,\n",
    "                                          batch_size = batch_size,\n",
    "                                          shuffle = True)\n",
    "test_loader = torch.utils.data.DataLoader(dataset = test_data,\n",
    "                                         batch_size = batch_size,\n",
    "                                         shuffle = True)\n",
    "\n",
    "first_batch = train_loader.__iter__().__next__()\n",
    "print('{:15s} | {:<25} | {}'.format('name','type', 'size'))\n",
    "print('{:15s} | {:<25} | {}'.format('Num of Batch','', \n",
    "                                   len(train_loader)))\n",
    "print('{:15s} | {:<25} | {}'.format('first_batch',str(type(first_batch)), \n",
    "                                   len(first_batch)))\n",
    "print('{:15s} | {:<25} | {}'.format('first_batch[0]',\n",
    "                                    str(type(first_batch[0])), \n",
    "                                    first_batch[0].shape))\n",
    "print('{:15s} | {:<25} | {}'.format('first_batch[1]',\n",
    "                                    str(type(first_batch[1])), \n",
    "                                    first_batch[1].shape))\n",
    "                                    \n"
   ]
  },
  {
   "cell_type": "code",
   "execution_count": 11,
   "id": "c802c7b3",
   "metadata": {},
   "outputs": [],
   "source": [
    "#nn.Module 상속받는 CNN클래스 정의\n",
    "class CNN(nn.Module):\n",
    "    # 가중치 정의\n",
    "    def __init__(self):\n",
    "        # nn.Module 클래서 속성을 상속받고 초기화\n",
    "        super(CNN, self).__init__()\n",
    "        \n",
    "        # in_channels = 1 : tensor의 채널 크기\n",
    "        # out_channels = 32 : conv1의 출력크기. conv2의 입력크기와 같아야함\n",
    "        # kernel_size = 3 : Filter의 크기. \n",
    "        #                   Scalar 값으로 지정하면 가로와 세로의 크기가 같은 2D Filter 생성\n",
    "        #                   kernel_size = 3 은 (3x3)Filter임\n",
    "        # stride = 1 : Filter가 움직이는 단위\n",
    "        # padding : 옵션을 지정하지 않아 padding = 0이 적용되어 시행되지 않음\n",
    "        self.conv1 = nn.Conv2d(1, 32, 3, 1)\n",
    "        self.conv2 = nn.Conv2d(32, 64, 3, 1)\n",
    "        \n",
    "        # 0.25 확률의 dropout1 지정\n",
    "        self.dropout1 = nn.Dropout2d(0.25)\n",
    "        # 0.5 확률의 dropout1 지정\n",
    "        self.dropout2 = nn.Dropout2d(0.5)\n",
    "        \n",
    "        # Fully-connected Layer 정의\n",
    "        # in_features = 9216, out_features = 128\n",
    "        # 9216 크기의 벡터를 128 크기의 벡터로 변환하는 가중치 설계\n",
    "        self.fc1 = nn.Linear(9216, 128)\n",
    "        # fc1 에서 출력된 128 크기의 벡터를 MNIST의 클래스 개수인 10 크기의 벡터로 변환\n",
    "        self.fc2 = nn.Linear(128,10)\n",
    "        \n",
    "    # Feed Forward 연산 정의\n",
    "    def forward(self, x):\n",
    "        # 입력 이미지 conv1 레이어 통과\n",
    "        x = self.conv1(x)\n",
    "        # ReLU 활성함수 적용\n",
    "        # 활성 함수는 단순 연산이므로 __init__에서 정의한 학습 가중치 없음\n",
    "        x = F.relu(x)\n",
    "        # conv2 레이어 통과\n",
    "        x = self.conv2(x)\n",
    "        # ReLU 활성함수 적용\n",
    "        x = F.relu(x)\n",
    "        # (2x2) 크기의 filter로 max pooling 적용\n",
    "        # pooling layer는 단순연산이므로 학습할 가중치 없음\n",
    "        x = F.max_pool2d(x, 2)\n",
    "        # 0.25 확률의 dropout1 적용\n",
    "        x = self.dropout1(x)\n",
    "        # Fully-connected Layer 통과하기전, 고차원의 Tensor를 1차원의 벡터로 변환\n",
    "        # 2개의 Convolutional Layer와 1번의 max pooling으로 만들어진 [64, 12, 12]크기의 3차원 Tensor가 9216벡터로 변환됨\n",
    "        x = torch.flatten(x, 1)\n",
    "        # 9216 크기의 벡터를 128 크기의 벡터로 학습하는 fc1 통과\n",
    "        x = self.fc1(x)\n",
    "        # ReLU 활성함수 적용\n",
    "        x = F.relu(x)\n",
    "        # 0.5 확률의 dropout2 적용\n",
    "        x = self.dropout2(x)\n",
    "        # 2번째 Fully-connected Layer인 fc2를 통과하면서 벡터의 사이즈가 128에서 10으로 줄어듦\n",
    "        x = self.fc2(x)\n",
    "        # 최종 출력값으로 log-softmax 계산\n",
    "        # softmax보다 연산 속도를 높일 수 있음\n",
    "        output = F.log_softmax(x, dim = 1)\n",
    "        return output"
   ]
  },
  {
   "cell_type": "markdown",
   "id": "164534c7",
   "metadata": {},
   "source": [
    "### - 4. Optimizer 및 손실 함수 정의"
   ]
  },
  {
   "cell_type": "code",
   "execution_count": 12,
   "id": "53ecbf4c",
   "metadata": {},
   "outputs": [],
   "source": [
    "# CNN 클래스를 이용해 model이라는 인스턴스 생성\n",
    "# 1-2에서 지정한 device 인식\n",
    "model = CNN().to(device)\n",
    "\n",
    "# 손실 함수를 최소로 하는 가중치를 찾기 위해 Adam 알고리즘의 optimizer 지정\n",
    "optimizer = optim.Adam(model.parameters(), lr = learning_rate)\n",
    "\n",
    "# MNIST는 다중 클래스 분류 문제이기에 교차 엔트로피(CrossEntropy)를 손실 함수로 설정\n",
    "criterion = nn.CrossEntropyLoss()"
   ]
  },
  {
   "cell_type": "markdown",
   "id": "694c02d3",
   "metadata": {},
   "source": [
    "### - 5. 설계한 CNN 모형 확인하기"
   ]
  },
  {
   "cell_type": "code",
   "execution_count": 13,
   "id": "69fe85ca",
   "metadata": {},
   "outputs": [
    {
     "name": "stdout",
     "output_type": "stream",
     "text": [
      "CNN(\n",
      "  (conv1): Conv2d(1, 32, kernel_size=(3, 3), stride=(1, 1))\n",
      "  (conv2): Conv2d(32, 64, kernel_size=(3, 3), stride=(1, 1))\n",
      "  (dropout1): Dropout2d(p=0.25, inplace=False)\n",
      "  (dropout2): Dropout2d(p=0.5, inplace=False)\n",
      "  (fc1): Linear(in_features=9216, out_features=128, bias=True)\n",
      "  (fc2): Linear(in_features=128, out_features=10, bias=True)\n",
      ")\n"
     ]
    }
   ],
   "source": [
    "print(model)"
   ]
  },
  {
   "cell_type": "markdown",
   "id": "f8dbb395",
   "metadata": {},
   "source": [
    "### - 6. 모델 학습"
   ]
  },
  {
   "cell_type": "code",
   "execution_count": 14,
   "id": "9736cb61",
   "metadata": {},
   "outputs": [
    {
     "name": "stderr",
     "output_type": "stream",
     "text": [
      "C:\\Users\\rk401\\anaconda3\\lib\\site-packages\\torch\\nn\\functional.py:1331: UserWarning: dropout2d: Received a 2-D input to dropout2d, which is deprecated and will result in an error in a future release. To retain the behavior and silence this warning, please use dropout instead. Note that dropout2d exists to provide channel-wise dropout on inputs with 2 spatial dimensions, a channel dimension, and an optional batch dimension (i.e. 3D or 4D inputs).\n",
      "  warnings.warn(warn_msg)\n"
     ]
    },
    {
     "name": "stdout",
     "output_type": "stream",
     "text": [
      "Train Step: 0/tLoss: 2.291\n",
      "Train Step: 1000/tLoss: 0.381\n",
      "Train Step: 2000/tLoss: 0.200\n",
      "Train Step: 3000/tLoss: 0.180\n",
      "Train Step: 4000/tLoss: 0.108\n",
      "Train Step: 5000/tLoss: 0.034\n",
      "Train Step: 6000/tLoss: 0.140\n",
      "Train Step: 7000/tLoss: 0.038\n",
      "Train Step: 8000/tLoss: 0.077\n",
      "Train Step: 9000/tLoss: 0.029\n",
      "Train Step: 10000/tLoss: 0.015\n",
      "Train Step: 11000/tLoss: 0.082\n",
      "Train Step: 12000/tLoss: 0.005\n",
      "Train Step: 13000/tLoss: 0.075\n",
      "Train Step: 14000/tLoss: 0.066\n",
      "Train Step: 15000/tLoss: 0.029\n",
      "Train Step: 16000/tLoss: 0.017\n",
      "Train Step: 17000/tLoss: 0.004\n"
     ]
    }
   ],
   "source": [
    "# CNN클래스가 저장된 model 인스턴스를 학습 모드로 실행할 것을 명시\n",
    "model.train()\n",
    "# 보조 인덱스 지정\n",
    "i = 0\n",
    "\n",
    "# 미리 지정해둔 epoch 수만큼 반복 학습 for문 선언\n",
    "for epoch in range(epoch_num):\n",
    "    # 학습 데이터를 batch_size로 나눈 만큼 반복 수행\n",
    "    # train_loader는 매 시행마다 미니 배치의 데이터와 정답을 data와 target에 저장\n",
    "    for data, target in train_loader:\n",
    "        # 미니 배치의 데이터를 기존에 지정한 장비 device에 할당\n",
    "        data = data.to(device)\n",
    "        # 미니 배치의 정답을 기존에 지정한 장비 device에 할당\n",
    "        target = target.to(device)\n",
    "        # 학습 시작 전, 이전 반복 시행에서 저장된 optimizer의 gradient 초기화\n",
    "        optimizer.zero_grad()\n",
    "        # 미니 배치 데이터를 모델에 통과시키는 Feed Forward 연산으로 결괏값 계산\n",
    "        output = model(data)\n",
    "        # 계산된 결괏값과 실제 정답으로 손실 함수 계산\n",
    "        loss = criterion(output,target)\n",
    "        # 손실 함수를 통해 Gradient 계산\n",
    "        loss.backward()\n",
    "        # 위에서 계산된 Gradient를 통해 모델의 가중치 업데이트\n",
    "        optimizer.step()\n",
    "        # 1000번째 시행마다 손실 함수를 확인하기 위한 if문\n",
    "        if i % 1000 == 0:\n",
    "            # 손실 함수 출력\n",
    "            print('Train Step: {}/tLoss: {:.3f}'.format(i, loss.item()))\n",
    "        i += 1"
   ]
  },
  {
   "cell_type": "markdown",
   "id": "342fd961",
   "metadata": {},
   "source": [
    "### - 7. 모델 평가"
   ]
  },
  {
   "cell_type": "code",
   "execution_count": 15,
   "id": "bd5db465",
   "metadata": {},
   "outputs": [
    {
     "name": "stdout",
     "output_type": "stream",
     "text": [
      "Test set : Accuracy : 98.96%\n"
     ]
    }
   ],
   "source": [
    "# 평가 모드 실행\n",
    "# eval 함수를 호출하면 Dropout이 적용되지 않고 Batch-Normalization도 평가모드로 전환됨\n",
    "model.eval()\n",
    "# 정답 개수를 저장할 변수\n",
    "correct = 0\n",
    "\n",
    "# 테스트 데니터를 batch_size로 나눈 만큼 반복 수행됨\n",
    "# test_loader는 매 시행마다 미니 배치의 데이터와 정답을 data와 target에 저장\n",
    "for data, target in test_loader:\n",
    "    # 미니 배치의 데이터를 기존에 저장한 장비 device에 할당\n",
    "    data = data.to(device)\n",
    "    # 미니 배치의 정답을 기존에 지정한 장비 device에 할당\n",
    "    target = target.to(device)\n",
    "    # 미니 배치 데이터를 모델에 통과시켜 결괏값 계산\n",
    "    output = model(data)\n",
    "    # Log-Softmax 값이 가장 큰 인덱스를 예측값으로 저장\n",
    "    prediction = output.data.max(1)[1]\n",
    "    # 실제 정답과 예측값이 같으면 True, 다르면 False인 논리값으로 구성된 벡터 더하기\n",
    "    # 미니 배치 중 정답의개수를구하고 반복 시행마다 누적해서 더해줌\n",
    "    correct += prediction.eq(target.data).sum()\n",
    "    \n",
    "# 전체 테스트 데이터 중 맞춘 개수의 비율을 통해 정확도 계산하여 출력    \n",
    "print('Test set : Accuracy : {:.2f}%'.format(100 * correct / len(test_loader.dataset)))"
   ]
  },
  {
   "cell_type": "code",
   "execution_count": null,
   "id": "b4612733",
   "metadata": {},
   "outputs": [],
   "source": []
  }
 ],
 "metadata": {
  "kernelspec": {
   "display_name": "Python 3 (ipykernel)",
   "language": "python",
   "name": "python3"
  },
  "language_info": {
   "codemirror_mode": {
    "name": "ipython",
    "version": 3
   },
   "file_extension": ".py",
   "mimetype": "text/x-python",
   "name": "python",
   "nbconvert_exporter": "python",
   "pygments_lexer": "ipython3",
   "version": "3.9.12"
  }
 },
 "nbformat": 4,
 "nbformat_minor": 5
}
